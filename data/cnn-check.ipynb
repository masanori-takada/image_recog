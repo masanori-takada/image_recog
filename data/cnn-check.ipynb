{
 "nbformat": 4,
 "nbformat_minor": 2,
 "metadata": {
  "language_info": {
   "name": "python",
   "codemirror_mode": {
    "name": "ipython",
    "version": 3
   },
   "version": "3.7.4-final"
  },
  "orig_nbformat": 2,
  "file_extension": ".py",
  "mimetype": "text/x-python",
  "name": "python",
  "npconvert_exporter": "python",
  "pygments_lexer": "ipython3",
  "version": 3,
  "kernelspec": {
   "name": "python37464bitbasecondae04e231bb426455699fbb15e89bc1c3a",
   "display_name": "Python 3.7.4 64-bit ('base': conda)"
  }
 },
 "cells": [
  {
   "cell_type": "code",
   "execution_count": 19,
   "metadata": {},
   "outputs": [],
   "source": [
    "import cv2\n",
    "import numpy as np\n",
    "from keras.models import load_model\n",
    "import matplotlib.pyplot as plt"
   ]
  },
  {
   "cell_type": "code",
   "execution_count": 20,
   "metadata": {},
   "outputs": [],
   "source": [
    "labels=[\n",
    "    'airplane',\n",
    "    'automobile',\n",
    "    'bird',\n",
    "    'cat',\n",
    "    'deer',\n",
    "    'dog',\n",
    "    'frog',\n",
    "    'horse',\n",
    "    'ship',\n",
    "    'truck'\n",
    "]"
   ]
  },
  {
   "cell_type": "code",
   "execution_count": 21,
   "metadata": {},
   "outputs": [],
   "source": [
    "in_rows=32\n",
    "in_cols=32\n",
    "in_colors=3\n",
    "in_shape=(in_rows,in_cols,in_colors)"
   ]
  },
  {
   "cell_type": "code",
   "execution_count": 22,
   "metadata": {},
   "outputs": [],
   "source": [
    "model=load_model(\"cnn_model.h5\")"
   ]
  },
  {
   "cell_type": "code",
   "execution_count": 23,
   "metadata": {},
   "outputs": [],
   "source": [
    "model.load_weights(\"cnn_weights.h5\")"
   ]
  },
  {
   "cell_type": "code",
   "execution_count": 24,
   "metadata": {},
   "outputs": [
    {
     "data": {
      "image/png": "[encoded data removed]",
      "image/svg+xml": "<?xml version=\"1.0\" encoding=\"utf-8\" standalone=\"no\"?>\n<!DOCTYPE svg PUBLIC \"-//W3C//DTD SVG 1.1//EN\"\n  \"http://www.w3.org/Graphics/SVG/1.1/DTD/svg11.dtd\">\n<!-- Created with matplotlib (https://matplotlib.org/) -->\n<svg height=\"248.919844pt\" version=\"1.1\" viewBox=\"0 0 251.565 248.919844\" width=\"251.565pt\" xmlns=\"http://www.w3.org/2000/svg\" xmlns:xlink=\"http://www.w3.org/1999/xlink\">\n <defs>\n  <style type=\"text/css\">\n*{stroke-linecap:butt;stroke-linejoin:round;}\n  </style>\n </defs>\n <g id=\"figure_1\">\n  <g id=\"patch_1\">\n   <path d=\"M 0 248.919844 \nL 251.565 248.919844 \nL 251.565 0 \nL 0 0 \nz\n\" style=\"fill:none;\"/>\n  </g>\n  <g id=\"axes_1\">\n   <g id=\"patch_2\">\n    <path d=\"M 26.925 225.041719 \nL 244.365 225.041719 \nL 244.365 7.601719 \nL 26.925 7.601719 \nz\n\" style=\"fill:#ffffff;\"/>\n   </g>\n   <g clip-path=\"url(#pbd560f93c8)\">\n    <image height=\"218\" id=\"imagedca6a489b2\" transform=\"scale(1 -1)translate(0 -218)\" width=\"218\" x=\"26.925\" xlink:href=\"data:image/png;base64,\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\" y=\"-7.041719\"/>\n   </g>\n   <g id=\"matplotlib.axis_1\">\n    <g id=\"xtick_1\">\n     <g id=\"line2d_1\">\n      <defs>\n       <path d=\"M 0 0 \nL 0 3.5 \n\" id=\"mf868a51553\" style=\"stroke:#000000;stroke-width:0.8;\"/>\n      </defs>\n      <g>\n       <use style=\"stroke:#000000;stroke-width:0.8;\" x=\"30.3225\" xlink:href=\"#mf868a51553\" y=\"225.041719\"/>\n      </g>\n     </g>\n     <g id=\"text_1\">\n      <!-- 0 -->\n      <defs>\n       <path d=\"M 31.78125 66.40625 \nQ 24.171875 66.40625 20.328125 58.90625 \nQ 16.5 51.421875 16.5 36.375 \nQ 16.5 21.390625 20.328125 13.890625 \nQ 24.171875 6.390625 31.78125 6.390625 \nQ 39.453125 6.390625 43.28125 13.890625 \nQ 47.125 21.390625 47.125 36.375 \nQ 47.125 51.421875 43.28125 58.90625 \nQ 39.453125 66.40625 31.78125 66.40625 \nz\nM 31.78125 74.21875 \nQ 44.046875 74.21875 50.515625 64.515625 \nQ 56.984375 54.828125 56.984375 36.375 \nQ 56.984375 17.96875 50.515625 8.265625 \nQ 44.046875 -1.421875 31.78125 -1.421875 \nQ 19.53125 -1.421875 13.0625 8.265625 \nQ 6.59375 17.96875 6.59375 36.375 \nQ 6.59375 54.828125 13.0625 64.515625 \nQ 19.53125 74.21875 31.78125 74.21875 \nz\n\" id=\"DejaVuSans-48\"/>\n      </defs>\n      <g transform=\"translate(27.14125 239.640156)scale(0.1 -0.1)\">\n       <use xlink:href=\"#DejaVuSans-48\"/>\n      </g>\n     </g>\n    </g>\n    <g id=\"xtick_2\">\n     <g id=\"line2d_2\">\n      <g>\n       <use style=\"stroke:#000000;stroke-width:0.8;\" x=\"64.2975\" xlink:href=\"#mf868a51553\" y=\"225.041719\"/>\n      </g>\n     </g>\n     <g id=\"text_2\">\n      <!-- 5 -->\n      <defs>\n       <path d=\"M 10.796875 72.90625 \nL 49.515625 72.90625 \nL 49.515625 64.59375 \nL 19.828125 64.59375 \nL 19.828125 46.734375 \nQ 21.96875 47.46875 24.109375 47.828125 \nQ 26.265625 48.1875 28.421875 48.1875 \nQ 40.625 48.1875 47.75 41.5 \nQ 54.890625 34.8125 54.890625 23.390625 \nQ 54.890625 11.625 47.5625 5.09375 \nQ 40.234375 -1.421875 26.90625 -1.421875 \nQ 22.3125 -1.421875 17.546875 -0.640625 \nQ 12.796875 0.140625 7.71875 1.703125 \nL 7.71875 11.625 \nQ 12.109375 9.234375 16.796875 8.0625 \nQ 21.484375 6.890625 26.703125 6.890625 \nQ 35.15625 6.890625 40.078125 11.328125 \nQ 45.015625 15.765625 45.015625 23.390625 \nQ 45.015625 31 40.078125 35.4375 \nQ 35.15625 39.890625 26.703125 39.890625 \nQ 22.75 39.890625 18.8125 39.015625 \nQ 14.890625 38.140625 10.796875 36.28125 \nz\n\" id=\"DejaVuSans-53\"/>\n      </defs>\n      <g transform=\"translate(61.11625 239.640156)scale(0.1 -0.1)\">\n       <use xlink:href=\"#DejaVuSans-53\"/>\n      </g>\n     </g>\n    </g>\n    <g id=\"xtick_3\">\n     <g id=\"line2d_3\">\n      <g>\n       <use style=\"stroke:#000000;stroke-width:0.8;\" x=\"98.2725\" xlink:href=\"#mf868a51553\" y=\"225.041719\"/>\n      </g>\n     </g>\n     <g id=\"text_3\">\n      <!-- 10 -->\n      <defs>\n       <path d=\"M 12.40625 8.296875 \nL 28.515625 8.296875 \nL 28.515625 63.921875 \nL 10.984375 60.40625 \nL 10.984375 69.390625 \nL 28.421875 72.90625 \nL 38.28125 72.90625 \nL 38.28125 8.296875 \nL 54.390625 8.296875 \nL 54.390625 0 \nL 12.40625 0 \nz\n\" id=\"DejaVuSans-49\"/>\n      </defs>\n      <g transform=\"translate(91.91 239.640156)scale(0.1 -0.1)\">\n       <use xlink:href=\"#DejaVuSans-49\"/>\n       <use x=\"63.623047\" xlink:href=\"#DejaVuSans-48\"/>\n      </g>\n     </g>\n    </g>\n    <g id=\"xtick_4\">\n     <g id=\"line2d_4\">\n      <g>\n       <use style=\"stroke:#000000;stroke-width:0.8;\" x=\"132.2475\" xlink:href=\"#mf868a51553\" y=\"225.041719\"/>\n      </g>\n     </g>\n     <g id=\"text_4\">\n      <!-- 15 -->\n      <g transform=\"translate(125.885 239.640156)scale(0.1 -0.1)\">\n       <use xlink:href=\"#DejaVuSans-49\"/>\n       <use x=\"63.623047\" xlink:href=\"#DejaVuSans-53\"/>\n      </g>\n     </g>\n    </g>\n    <g id=\"xtick_5\">\n     <g id=\"line2d_5\">\n      <g>\n       <use style=\"stroke:#000000;stroke-width:0.8;\" x=\"166.2225\" xlink:href=\"#mf868a51553\" y=\"225.041719\"/>\n      </g>\n     </g>\n     <g id=\"text_5\">\n      <!-- 20 -->\n      <defs>\n       <path d=\"M 19.1875 8.296875 \nL 53.609375 8.296875 \nL 53.609375 0 \nL 7.328125 0 \nL 7.328125 8.296875 \nQ 12.9375 14.109375 22.625 23.890625 \nQ 32.328125 33.6875 34.8125 36.53125 \nQ 39.546875 41.84375 41.421875 45.53125 \nQ 43.3125 49.21875 43.3125 52.78125 \nQ 43.3125 58.59375 39.234375 62.25 \nQ 35.15625 65.921875 28.609375 65.921875 \nQ 23.96875 65.921875 18.8125 64.3125 \nQ 13.671875 62.703125 7.8125 59.421875 \nL 7.8125 69.390625 \nQ 13.765625 71.78125 18.9375 73 \nQ 24.125 74.21875 28.421875 74.21875 \nQ 39.75 74.21875 46.484375 68.546875 \nQ 53.21875 62.890625 53.21875 53.421875 \nQ 53.21875 48.921875 51.53125 44.890625 \nQ 49.859375 40.875 45.40625 35.40625 \nQ 44.1875 33.984375 37.640625 27.21875 \nQ 31.109375 20.453125 19.1875 8.296875 \nz\n\" id=\"DejaVuSans-50\"/>\n      </defs>\n      <g transform=\"translate(159.86 239.640156)scale(0.1 -0.1)\">\n       <use xlink:href=\"#DejaVuSans-50\"/>\n       <use x=\"63.623047\" xlink:href=\"#DejaVuSans-48\"/>\n      </g>\n     </g>\n    </g>\n    <g id=\"xtick_6\">\n     <g id=\"line2d_6\">\n      <g>\n       <use style=\"stroke:#000000;stroke-width:0.8;\" x=\"200.1975\" xlink:href=\"#mf868a51553\" y=\"225.041719\"/>\n      </g>\n     </g>\n     <g id=\"text_6\">\n      <!-- 25 -->\n      <g transform=\"translate(193.835 239.640156)scale(0.1 -0.1)\">\n       <use xlink:href=\"#DejaVuSans-50\"/>\n       <use x=\"63.623047\" xlink:href=\"#DejaVuSans-53\"/>\n      </g>\n     </g>\n    </g>\n    <g id=\"xtick_7\">\n     <g id=\"line2d_7\">\n      <g>\n       <use style=\"stroke:#000000;stroke-width:0.8;\" x=\"234.1725\" xlink:href=\"#mf868a51553\" y=\"225.041719\"/>\n      </g>\n     </g>\n     <g id=\"text_7\">\n      <!-- 30 -->\n      <defs>\n       <path d=\"M 40.578125 39.3125 \nQ 47.65625 37.796875 51.625 33 \nQ 55.609375 28.21875 55.609375 21.1875 \nQ 55.609375 10.40625 48.1875 4.484375 \nQ 40.765625 -1.421875 27.09375 -1.421875 \nQ 22.515625 -1.421875 17.65625 -0.515625 \nQ 12.796875 0.390625 7.625 2.203125 \nL 7.625 11.71875 \nQ 11.71875 9.328125 16.59375 8.109375 \nQ 21.484375 6.890625 26.8125 6.890625 \nQ 36.078125 6.890625 40.9375 10.546875 \nQ 45.796875 14.203125 45.796875 21.1875 \nQ 45.796875 27.640625 41.28125 31.265625 \nQ 36.765625 34.90625 28.71875 34.90625 \nL 20.21875 34.90625 \nL 20.21875 43.015625 \nL 29.109375 43.015625 \nQ 36.375 43.015625 40.234375 45.921875 \nQ 44.09375 48.828125 44.09375 54.296875 \nQ 44.09375 59.90625 40.109375 62.90625 \nQ 36.140625 65.921875 28.71875 65.921875 \nQ 24.65625 65.921875 20.015625 65.03125 \nQ 15.375 64.15625 9.8125 62.3125 \nL 9.8125 71.09375 \nQ 15.4375 72.65625 20.34375 73.4375 \nQ 25.25 74.21875 29.59375 74.21875 \nQ 40.828125 74.21875 47.359375 69.109375 \nQ 53.90625 64.015625 53.90625 55.328125 \nQ 53.90625 49.265625 50.4375 45.09375 \nQ 46.96875 40.921875 40.578125 39.3125 \nz\n\" id=\"DejaVuSans-51\"/>\n      </defs>\n      <g transform=\"translate(227.81 239.640156)scale(0.1 -0.1)\">\n       <use xlink:href=\"#DejaVuSans-51\"/>\n       <use x=\"63.623047\" xlink:href=\"#DejaVuSans-48\"/>\n      </g>\n     </g>\n    </g>\n   </g>\n   <g id=\"matplotlib.axis_2\">\n    <g id=\"ytick_1\">\n     <g id=\"line2d_8\">\n      <defs>\n       <path d=\"M 0 0 \nL -3.5 0 \n\" id=\"mf6c9a91863\" style=\"stroke:#000000;stroke-width:0.8;\"/>\n      </defs>\n      <g>\n       <use style=\"stroke:#000000;stroke-width:0.8;\" x=\"26.925\" xlink:href=\"#mf6c9a91863\" y=\"10.999219\"/>\n      </g>\n     </g>\n     <g id=\"text_8\">\n      <!-- 0 -->\n      <g transform=\"translate(13.5625 14.798437)scale(0.1 -0.1)\">\n       <use xlink:href=\"#DejaVuSans-48\"/>\n      </g>\n     </g>\n    </g>\n    <g id=\"ytick_2\">\n     <g id=\"line2d_9\">\n      <g>\n       <use style=\"stroke:#000000;stroke-width:0.8;\" x=\"26.925\" xlink:href=\"#mf6c9a91863\" y=\"44.974219\"/>\n      </g>\n     </g>\n     <g id=\"text_9\">\n      <!-- 5 -->\n      <g transform=\"translate(13.5625 48.773437)scale(0.1 -0.1)\">\n       <use xlink:href=\"#DejaVuSans-53\"/>\n      </g>\n     </g>\n    </g>\n    <g id=\"ytick_3\">\n     <g id=\"line2d_10\">\n      <g>\n       <use style=\"stroke:#000000;stroke-width:0.8;\" x=\"26.925\" xlink:href=\"#mf6c9a91863\" y=\"78.949219\"/>\n      </g>\n     </g>\n     <g id=\"text_10\">\n      <!-- 10 -->\n      <g transform=\"translate(7.2 82.748437)scale(0.1 -0.1)\">\n       <use xlink:href=\"#DejaVuSans-49\"/>\n       <use x=\"63.623047\" xlink:href=\"#DejaVuSans-48\"/>\n      </g>\n     </g>\n    </g>\n    <g id=\"ytick_4\">\n     <g id=\"line2d_11\">\n      <g>\n       <use style=\"stroke:#000000;stroke-width:0.8;\" x=\"26.925\" xlink:href=\"#mf6c9a91863\" y=\"112.924219\"/>\n      </g>\n     </g>\n     <g id=\"text_11\">\n      <!-- 15 -->\n      <g transform=\"translate(7.2 116.723437)scale(0.1 -0.1)\">\n       <use xlink:href=\"#DejaVuSans-49\"/>\n       <use x=\"63.623047\" xlink:href=\"#DejaVuSans-53\"/>\n      </g>\n     </g>\n    </g>\n    <g id=\"ytick_5\">\n     <g id=\"line2d_12\">\n      <g>\n       <use style=\"stroke:#000000;stroke-width:0.8;\" x=\"26.925\" xlink:href=\"#mf6c9a91863\" y=\"146.899219\"/>\n      </g>\n     </g>\n     <g id=\"text_12\">\n      <!-- 20 -->\n      <g transform=\"translate(7.2 150.698437)scale(0.1 -0.1)\">\n       <use xlink:href=\"#DejaVuSans-50\"/>\n       <use x=\"63.623047\" xlink:href=\"#DejaVuSans-48\"/>\n      </g>\n     </g>\n    </g>\n    <g id=\"ytick_6\">\n     <g id=\"line2d_13\">\n      <g>\n       <use style=\"stroke:#000000;stroke-width:0.8;\" x=\"26.925\" xlink:href=\"#mf6c9a91863\" y=\"180.874219\"/>\n      </g>\n     </g>\n     <g id=\"text_13\">\n      <!-- 25 -->\n      <g transform=\"translate(7.2 184.673437)scale(0.1 -0.1)\">\n       <use xlink:href=\"#DejaVuSans-50\"/>\n       <use x=\"63.623047\" xlink:href=\"#DejaVuSans-53\"/>\n      </g>\n     </g>\n    </g>\n    <g id=\"ytick_7\">\n     <g id=\"line2d_14\">\n      <g>\n       <use style=\"stroke:#000000;stroke-width:0.8;\" x=\"26.925\" xlink:href=\"#mf6c9a91863\" y=\"214.849219\"/>\n      </g>\n     </g>\n     <g id=\"text_14\">\n      <!-- 30 -->\n      <g transform=\"translate(7.2 218.648437)scale(0.1 -0.1)\">\n       <use xlink:href=\"#DejaVuSans-51\"/>\n       <use x=\"63.623047\" xlink:href=\"#DejaVuSans-48\"/>\n      </g>\n     </g>\n    </g>\n   </g>\n   <g id=\"patch_3\">\n    <path d=\"M 26.925 225.041719 \nL 26.925 7.601719 \n\" style=\"fill:none;stroke:#000000;stroke-linecap:square;stroke-linejoin:miter;stroke-width:0.8;\"/>\n   </g>\n   <g id=\"patch_4\">\n    <path d=\"M 244.365 225.041719 \nL 244.365 7.601719 \n\" style=\"fill:none;stroke:#000000;stroke-linecap:square;stroke-linejoin:miter;stroke-width:0.8;\"/>\n   </g>\n   <g id=\"patch_5\">\n    <path d=\"M 26.925 225.041719 \nL 244.365 225.041719 \n\" style=\"fill:none;stroke:#000000;stroke-linecap:square;stroke-linejoin:miter;stroke-width:0.8;\"/>\n   </g>\n   <g id=\"patch_6\">\n    <path d=\"M 26.925 7.601719 \nL 244.365 7.601719 \n\" style=\"fill:none;stroke:#000000;stroke-linecap:square;stroke-linejoin:miter;stroke-width:0.8;\"/>\n   </g>\n  </g>\n </g>\n <defs>\n  <clipPath id=\"pbd560f93c8\">\n   <rect height=\"217.44\" width=\"217.44\" x=\"26.925\" y=\"7.601719\"/>\n  </clipPath>\n </defs>\n</svg>\n",
      "text/plain": "<Figure size 432x288 with 1 Axes>"
     },
     "metadata": {
      "needs_background": "light"
     },
     "output_type": "display_data"
    }
   ],
   "source": [
    "img=cv2.imread(\"test-car.jpeg\")\n",
    "img=cv2.cvtColor(img,cv2.COLOR_BGR2RGB)\n",
    "img=cv2.resize(img,(32,32))\n",
    "plt.imshow(img)\n",
    "plt.show()"
   ]
  },
  {
   "cell_type": "code",
   "execution_count": 25,
   "metadata": {},
   "outputs": [
    {
     "data": {
      "text/plain": "array([[[[1., 1., 1.],\n         [1., 1., 1.],\n         [1., 1., 1.],\n         ...,\n         [1., 1., 1.],\n         [1., 1., 1.],\n         [1., 1., 1.]],\n\n        [[1., 1., 1.],\n         [1., 1., 1.],\n         [1., 1., 1.],\n         ...,\n         [1., 1., 1.],\n         [1., 1., 1.],\n         [1., 1., 1.]],\n\n        [[1., 1., 1.],\n         [1., 1., 1.],\n         [1., 1., 1.],\n         ...,\n         [1., 1., 1.],\n         [1., 1., 1.],\n         [1., 1., 1.]],\n\n        ...,\n\n        [[1., 1., 1.],\n         [1., 1., 1.],\n         [1., 1., 1.],\n         ...,\n         [1., 1., 1.],\n         [1., 1., 1.],\n         [1., 1., 1.]],\n\n        [[1., 1., 1.],\n         [1., 1., 1.],\n         [1., 1., 1.],\n         ...,\n         [1., 1., 1.],\n         [1., 1., 1.],\n         [1., 1., 1.]],\n\n        [[1., 1., 1.],\n         [1., 1., 1.],\n         [1., 1., 1.],\n         ...,\n         [1., 1., 1.],\n         [1., 1., 1.],\n         [1., 1., 1.]]]], dtype=float32)"
     },
     "execution_count": 25,
     "metadata": {},
     "output_type": "execute_result"
    }
   ],
   "source": [
    "img=img.reshape(-1,in_rows,in_cols,in_colors).astype(\"float32\")/255\n",
    "img"
   ]
  },
  {
   "cell_type": "code",
   "execution_count": 26,
   "metadata": {},
   "outputs": [
    {
     "name": "stdout",
     "output_type": "stream",
     "text": "1/1 [==============================] - 1s 574ms/step\n"
    }
   ],
   "source": [
    "r=model.predict(img,batch_size=32,verbose=1)\n",
    "res=r[0]"
   ]
  },
  {
   "cell_type": "code",
   "execution_count": 27,
   "metadata": {},
   "outputs": [
    {
     "name": "stdout",
     "output_type": "stream",
     "text": "airplane = 0\nautomobile = 97\nbird = 0\ncat = 0\ndeer = 0\ndog = 0\nfrog = 0\nhorse = 0\nship = 0\ntruck = 2\n============\n予測結果＝ automobile\n"
    }
   ],
   "source": [
    "for i,accuracy in enumerate(res):\n",
    "    print(labels[i],\"=\",int(accuracy*100))\n",
    "print(\"============\")\n",
    "print(\"予測結果＝\",labels[res.argmax()])"
   ]
  },
  {
   "cell_type": "code",
   "execution_count": null,
   "metadata": {},
   "outputs": [],
   "source": []
  }
 ]
}